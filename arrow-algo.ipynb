{
 "cells": [
  {
   "cell_type": "code",
   "execution_count": 1,
   "metadata": {},
   "outputs": [],
   "source": [
    "arr = [[1, 1, 1, 6],\n",
    " [4, 1, 6, 2, 2],\n",
    " [3, 1, 4, 1, 2, 4],\n",
    " [2, 5, 6, 3, 4, 2, 3],\n",
    " [1, 3, 2, 1, 4, 3],\n",
    " [4, 6, 6, 5, 6],\n",
    " [6, 2, 5, 6]]"
   ]
  },
  {
   "cell_type": "code",
   "execution_count": 3,
   "metadata": {},
   "outputs": [],
   "source": [
    "import numpy as np\n",
    "\n",
    "arr = [[1, 1, 1, 6],\n",
    " [4, 1, 6, 2, 2],\n",
    " [3, 1, 4, 1, 2, 4],\n",
    " [2, 5, 6, 3, 4, 2, 3],\n",
    " [1, 3, 2, 1, 4, 3],\n",
    " [4, 6, 6, 5, 6],\n",
    " [6, 2, 5, 6]]\n",
    "\n",
    "rectangle = np.zeros((len(arr), 7), dtype='int')\n",
    "for i in range(len(arr)):\n",
    "    if i<4:\n",
    "        rectangle[i:i + 1, 7-len(arr[i]):] = arr[i]\n",
    "    else:\n",
    "        rectangle[i:i + 1, :len(arr[i])] = arr[i]"
   ]
  },
  {
   "cell_type": "code",
   "execution_count": 4,
   "metadata": {},
   "outputs": [
    {
     "data": {
      "text/plain": [
       "array([[0, 0, 0, 1, 1, 1, 6],\n",
       "       [0, 0, 4, 1, 6, 2, 2],\n",
       "       [0, 3, 1, 4, 1, 2, 4],\n",
       "       [2, 5, 6, 3, 4, 2, 3],\n",
       "       [1, 3, 2, 1, 4, 3, 0],\n",
       "       [4, 6, 6, 5, 6, 0, 0],\n",
       "       [6, 2, 5, 6, 0, 0, 0]])"
      ]
     },
     "execution_count": 4,
     "metadata": {},
     "output_type": "execute_result"
    }
   ],
   "source": [
    "rectangle"
   ]
  },
  {
   "cell_type": "code",
   "execution_count": 15,
   "metadata": {},
   "outputs": [],
   "source": [
    "axial_cords = np.zeros((len(arr), 7), dtype='int')\n",
    "for i in range(len(arr)):\n",
    "    axial_cords[i] = range(-3,4)\n",
    "\n",
    "ax_cords = np.array([axial_cords, axial_cords.T])"
   ]
  },
  {
   "cell_type": "code",
   "execution_count": 16,
   "metadata": {},
   "outputs": [],
   "source": [
    "lookup = '''1\t1\t4\t1\t0\t3\t0\t0\n",
    "1\t2\t1\t6\t0\t1\t1\t2\n",
    "1\t2\t4\t6\t2\t0\t1\t4\n",
    "1\t3\t1\t5\t4\t0\t0\t2\n",
    "1\t3\t4\t5\t2\t1\t0\t0\n",
    "1\t4\t1\t4\t0\t3\t1\t0\n",
    "1\t4\t4\t4\t0\t0\t1\t0\n",
    "1\t5\t1\t3\t4\t2\t0\t0\n",
    "1\t5\t4\t3\t0\t1\t0\t2\n",
    "1\t6\t1\t2\t2\t1\t1\t0\n",
    "1\t6\t4\t2\t0\t2\t1\t4\n",
    "2\t1\t1\t6\t1\t4\t0\t0\n",
    "2\t1\t4\t6\t0\t0\t0\t5\n",
    "2\t2\t1\t5\t0\t4\t1\t1\n",
    "2\t2\t4\t5\t0\t1\t1\t1\n",
    "2\t3\t1\t4\t1\t0\t0\t4\n",
    "2\t3\t4\t4\t4\t0\t0\t1\n",
    "2\t4\t1\t3\t1\t1\t1\t0\n",
    "2\t4\t4\t3\t3\t0\t1\t2\n",
    "2\t5\t1\t2\t5\t0\t0\t0\n",
    "2\t5\t4\t2\t2\t0\t0\t3\n",
    "2\t6\t1\t1\t0\t2\t1\t3\n",
    "2\t6\t4\t1\t1\t0\t1\t4\n",
    "3\t1\t1\t5\t0\t0\t0\t4\n",
    "3\t1\t4\t5\t2\t5\t0\t0\n",
    "3\t2\t1\t4\t0\t1\t1\t0\n",
    "3\t2\t4\t4\t0\t4\t1\t0\n",
    "3\t3\t1\t3\t4\t0\t0\t0\n",
    "3\t3\t4\t3\t1\t0\t0\t3\n",
    "3\t4\t1\t2\t3\t0\t1\t1\n",
    "3\t4\t4\t2\t0\t0\t1\t4\n",
    "3\t5\t1\t1\t0\t4\t0\t0\n",
    "3\t5\t4\t1\t0\t1\t0\t0\n",
    "3\t6\t1\t6\t1\t0\t1\t3\n",
    "3\t6\t4\t6\t4\t0\t1\t0\n",
    "4\t1\t1\t4\t3\t0\t0\t0\n",
    "4\t1\t4\t4\t0\t0\t0\t3\n",
    "4\t2\t1\t3\t2\t0\t1\t1\n",
    "4\t2\t4\t3\t1\t2\t1\t0\n",
    "4\t3\t1\t2\t1\t0\t0\t2\n",
    "4\t3\t4\t2\t0\t2\t0\t1\n",
    "4\t4\t1\t1\t0\t0\t1\t3\n",
    "4\t4\t4\t1\t3\t0\t1\t0\n",
    "4\t5\t1\t6\t1\t2\t0\t0\n",
    "4\t5\t4\t6\t2\t0\t0\t1\n",
    "4\t6\t1\t5\t0\t2\t1\t1\n",
    "4\t6\t4\t5\t1\t0\t1\t2\n",
    "5\t1\t1\t3\t0\t0\t0\t2\n",
    "5\t1\t4\t3\t0\t3\t0\t2\n",
    "5\t2\t1\t2\t0\t1\t1\t4\n",
    "5\t2\t4\t2\t2\t0\t1\t0\n",
    "5\t3\t1\t1\t0\t2\t0\t0\n",
    "5\t3\t4\t1\t0\t5\t0\t0\n",
    "5\t4\t1\t6\t0\t3\t1\t2\n",
    "5\t4\t4\t6\t0\t0\t1\t2\n",
    "5\t5\t1\t5\t2\t0\t0\t0\n",
    "5\t5\t4\t5\t0\t1\t0\t4\n",
    "5\t6\t1\t4\t1\t0\t1\t1\n",
    "5\t6\t4\t4\t0\t2\t1\t0\n",
    "6\t1\t1\t2\t0\t3\t0\t1\n",
    "6\t1\t4\t2\t0\t0\t0\t1\n",
    "6\t2\t1\t1\t2\t0\t1\t5\n",
    "6\t2\t4\t1\t0\t1\t1\t3\n",
    "6\t3\t1\t6\t1\t0\t0\t0\n",
    "6\t3\t4\t6\t1\t3\t0\t0\n",
    "6\t4\t1\t5\t0\t0\t1\t1\n",
    "6\t4\t4\t5\t0\t3\t1\t1\n",
    "6\t5\t1\t4\t0\t1\t0\t3\n",
    "6\t5\t4\t4\t3\t1\t0\t0\n",
    "6\t6\t1\t3\t0\t2\t1\t5\n",
    "6\t6\t4\t3\t1\t0\t1\t0'''\n",
    "lookup = np.array([np.fromstring(row, sep=' ') for row in lookup.split('\\n')])"
   ]
  },
  {
   "cell_type": "code",
   "execution_count": 17,
   "metadata": {},
   "outputs": [],
   "source": [
    "np.save('lookup.npy', lookup)"
   ]
  },
  {
   "cell_type": "code",
   "execution_count": 47,
   "metadata": {},
   "outputs": [],
   "source": [
    "import hexy as hx\n",
    "import numpy as np\n",
    "import matplotlib.pyplot as plt\n",
    "\n",
    "axial_cords = np.zeros((len(arr), 7), dtype='int')\n",
    "for i in range(len(arr)):\n",
    "    axial_cords[i] = range(-3,4)\n",
    "\n",
    "ax_cords_map = np.array([axial_cords, axial_cords.T]).T\n",
    "\n",
    "SE = np.array((0, 1))\n",
    "SW = np.array((-1, 1))\n",
    "W = np.array((-1, 0))\n",
    "NW = np.array((0, -1))\n",
    "NE = np.array((1, -1))\n",
    "E = np.array((1, 0))\n",
    "ALL_DIRECTIONS = np.array([NW, NE, E, SE, SW, W, ])\n",
    "\n",
    "def get_neighbor(hex, direction):\n",
    "    return hex + direction\n",
    "\n",
    "class CyclicInteger:\n",
    "    \"\"\"\n",
    "    A simple helper class for \"cycling\" an integer through a range of values. Its value will be set to `lower_limit`\n",
    "    if it increases above `upper_limit`. Its value will be set to `upper_limit` if its value decreases below\n",
    "    `lower_limit`.\n",
    "    \"\"\"\n",
    "    def __init__(self, initial_value, lower_limit, upper_limit):\n",
    "        self.value = initial_value\n",
    "        self.lower_limit = lower_limit\n",
    "        self.upper_limit = upper_limit\n",
    "\n",
    "    def increment(self):\n",
    "        self.value += 1\n",
    "        if self.value > self.upper_limit:\n",
    "            self.value = self.lower_limit\n",
    "\n",
    "    def decrement(self):\n",
    "        self.value -= 1\n",
    "        if self.value < self.lower_limit:\n",
    "            self.value = self.upper_limit\n",
    "\n",
    "\n",
    "class HexTile(hx.HexTile):\n",
    "    def __init__(self, axial_coordinates, radius, tile_id):\n",
    "        super().__init__(axial_coordinates, radius, tile_id)\n",
    "        self.color='k'\n",
    "\n",
    "    def set_value(self, value):\n",
    "        self.value = CyclicInteger(value, 1, 6)\n",
    "\n",
    "class HexMap:\n",
    "    def __init__(self, size, values):\n",
    "\n",
    "        self.hex_map = hx.HexMap()\n",
    "        self.max_coord = size\n",
    "\n",
    "        # Get all possible coordinates within `self.max_coord` as radius.\n",
    "        spiral_coordinates = hx.get_spiral(np.array((0, 0, 0)), 0, self.max_coord)\n",
    "\n",
    "        # Convert `spiral_coordinates` to axial coordinates, create hexes \n",
    "        hexes = []\n",
    "        axial_coordinates = hx.cube_to_axial(spiral_coordinates)\n",
    "        for i, axial in enumerate(axial_coordinates):\n",
    "            hexes.append(HexTile(axial, 1, i))\n",
    "            \n",
    "        self.hex_map[np.array(axial_coordinates)] = hexes\n",
    "\n",
    "        for i in range(7):\n",
    "            for j in range(7):\n",
    "                if values[i,j]!=0:\n",
    "                    self.hex_map[ax_cords_map[i,j]][0].set_value(values[i,j])\n",
    "\n",
    "\n",
    "    def get_disk(self, center):\n",
    "        nbs = [get_neighbor(center, dir) for dir in ALL_DIRECTIONS]\n",
    "        return [center, *nbs]\n",
    "\n",
    "    def tap(self, ij):\n",
    "        tapped = self.hex_map[ij][0]\n",
    "        tap_co = tapped.axial_coordinates\n",
    "\n",
    "        for coords in self.get_disk(tap_co):\n",
    "            if len(self.hex_map[coords])>0:\n",
    "                self.hex_map[coords][0].value.increment()\n",
    "                if self.hex_map[coords][0].color=='k':\n",
    "                    self.hex_map[coords][0].color ='r'\n",
    "    \n",
    "    def print(self):\n",
    "        plt.figure(figsize=(10,10))\n",
    "        theta = np.radians(90)\n",
    "        c, s = np.cos(theta), np.sin(theta)\n",
    "        R = np.array(((c, -s), (s, c)))\n",
    "        proj = 1/np.sqrt(6)*np.array([[np.sqrt(3),0],[1,2]])\n",
    "\n",
    "        for h in self.hex_map.items():\n",
    "            hex = h[1]\n",
    "            coo = hex.axial_coordinates\n",
    "            coo = np.matmul(proj, coo.T)\n",
    "            coo = np.matmul(R, coo)\n",
    "            plt.text(coo[1]/4, coo[0]/4, hex.value.value, c=hex.color, fontsize=40)\n",
    "        \n",
    "        plt.axis('off')\n",
    "        plt.xlim([-1,1])\n",
    "        plt.ylim([-1,1])\n",
    "        plt.show()\n"
   ]
  },
  {
   "cell_type": "code",
   "execution_count": 48,
   "metadata": {},
   "outputs": [
    {
     "name": "stdout",
     "output_type": "stream",
     "text": [
      "[[-1.  1.]]\n"
     ]
    },
    {
     "data": {
      "image/png": "[encoded data removed]",
      "text/plain": [
       "<Figure size 720x720 with 1 Axes>"
      ]
     },
     "metadata": {
      "needs_background": "light"
     },
     "output_type": "display_data"
    }
   ],
   "source": [
    "hm = HexMap(3, rectangle)\n",
    "\n",
    "start = [-2, 2]\n",
    "curr = hm.hex_map[np.array([start])][0]\n",
    "curr.color = 'b'\n",
    "target = get_neighbor(curr.axial_coordinates, NE)\n",
    "target = hm.hex_map[target][0]\n",
    "target.color='g'\n",
    "print(target.axial_coordinates)\n",
    "hm.print()"
   ]
  },
  {
   "cell_type": "code",
   "execution_count": 49,
   "metadata": {},
   "outputs": [
    {
     "data": {
      "image/png": "[encoded data removed]",
      "text/plain": [
       "<Figure size 720x720 with 1 Axes>"
      ]
     },
     "metadata": {
      "needs_background": "light"
     },
     "output_type": "display_data"
    },
    {
     "data": {
      "image/png": "[encoded data removed]",
      "text/plain": [
       "<Figure size 720x720 with 1 Axes>"
      ]
     },
     "metadata": {
      "needs_background": "light"
     },
     "output_type": "display_data"
    },
    {
     "data": {
      "image/png": "[encoded data removed]",
      "text/plain": [
       "<Figure size 720x720 with 1 Axes>"
      ]
     },
     "metadata": {
      "needs_background": "light"
     },
     "output_type": "display_data"
    },
    {
     "data": {
      "image/png": "[encoded data removed]",
      "text/plain": [
       "<Figure size 720x720 with 1 Axes>"
      ]
     },
     "metadata": {
      "needs_background": "light"
     },
     "output_type": "display_data"
    },
    {
     "data": {
      "text/plain": [
       "[array([[-2.,  2.]]),\n",
       " array([[-2.,  2.]]),\n",
       " array([[-2.,  2.]]),\n",
       " array([[-2.,  2.]]),\n",
       " array([[-2.,  2.]]),\n",
       " array([[0., 1.]]),\n",
       " array([[1., 1.]]),\n",
       " array([[1., 1.]]),\n",
       " array([[1., 1.]]),\n",
       " array([[1., 1.]]),\n",
       " array([[1., 1.]]),\n",
       " array([[2., 1.]]),\n",
       " array([[-1.,  0.]]),\n",
       " array([[-1., -1.]]),\n",
       " array([[-1., -1.]]),\n",
       " array([[-1., -1.]]),\n",
       " array([[-1., -1.]]),\n",
       " array([[-1., -1.]]),\n",
       " array([[-1., -2.]]),\n",
       " array([[0., 0.]]),\n",
       " array([[0., 0.]]),\n",
       " array([[0., 0.]]),\n",
       " array([[0., 0.]]),\n",
       " array([[0., 0.]]),\n",
       " array([[1., 0.]]),\n",
       " array([[2., 0.]]),\n",
       " array([[2., 0.]]),\n",
       " array([[2., 0.]]),\n",
       " array([[2., 0.]]),\n",
       " array([[3., 0.]]),\n",
       " array([[3., 0.]]),\n",
       " array([[ 0., -1.]]),\n",
       " array([[ 0., -2.]]),\n",
       " array([[ 0., -2.]]),\n",
       " array([[ 0., -2.]]),\n",
       " array([[ 0., -2.]]),\n",
       " array([[ 0., -3.]]),\n",
       " array([[ 0., -3.]]),\n",
       " array([[ 1., -1.]]),\n",
       " array([[ 1., -1.]]),\n",
       " array([[ 1., -1.]]),\n",
       " array([[ 2., -1.]]),\n",
       " array([[ 2., -1.]]),\n",
       " array([[ 2., -1.]]),\n",
       " array([[ 2., -1.]]),\n",
       " array([[ 2., -1.]]),\n",
       " array([[ 1., -2.]]),\n",
       " array([[ 1., -2.]]),\n",
       " array([[ 1., -2.]]),\n",
       " array([[ 1., -2.]]),\n",
       " array([[ 1., -2.]]),\n",
       " array([[ 2., -2.]]),\n",
       " array([[ 2., -2.]]),\n",
       " array([[ 2., -2.]]),\n",
       " array([[ 2., -2.]]),\n",
       " array([[ 3., -2.]]),\n",
       " array([[ 2., -3.]]),\n",
       " array([[ 3., -3.]]),\n",
       " array([[ 3., -3.]]),\n",
       " array([[ 3., -3.]]),\n",
       " array([[ 3., -3.]]),\n",
       " array([[ 3., -3.]])]"
      ]
     },
     "execution_count": 49,
     "metadata": {},
     "output_type": "execute_result"
    }
   ],
   "source": [
    "hm = HexMap(3, rectangle)\n",
    "\n",
    "def propagate_1s(hm):\n",
    "\n",
    "    taps = []\n",
    "\n",
    "    start = [-2, 2]\n",
    "    curr = hm.hex_map[np.array([start])][0]\n",
    "    curr.color = 'b'\n",
    "    target = get_neighbor(curr.axial_coordinates, SW)\n",
    "    target = hm.hex_map[target][0]\n",
    "    target.color='g'\n",
    "\n",
    "    hm.print()\n",
    "    for start in [[-2, 2],[-1, 1],[0, 0],[1, -1],[2, -2],[3,-3]]:\n",
    "        for dir in [E, NW]:\n",
    "            curr = hm.hex_map[np.array([start])][0]\n",
    "            curr.color = 'b'\n",
    "            target = get_neighbor(curr.axial_coordinates, SW)\n",
    "            target = hm.hex_map[target][0]\n",
    "            target.color='g'\n",
    "\n",
    "            for i in range(7):\n",
    "                while target.value.value!=1:\n",
    "                    taps.append(curr.axial_coordinates)\n",
    "                    hm.tap(curr.axial_coordinates)\n",
    "\n",
    "                for hex in hm.hex_map.items():\n",
    "                    hex[1].color='k'\n",
    "\n",
    "                curr = get_neighbor(curr.axial_coordinates, dir)\n",
    "                if len(hm.hex_map[curr])>0:\n",
    "                    curr = hm.hex_map[curr][0]\n",
    "                else:\n",
    "                    break\n",
    "                curr.color = 'b'\n",
    "\n",
    "                target = get_neighbor(curr.axial_coordinates, SW)\n",
    "                if len(hm.hex_map[target])>0:\n",
    "                    target = hm.hex_map[target][0]\n",
    "                else:\n",
    "                    break\n",
    "                target.color='g'\n",
    "    hm.print()\n",
    "    return taps\n",
    "\n",
    "propagate_1s(hm)\n",
    "bottom = hm.hex_map[np.array([[0,-3],[1,-3],[2,-3],[3,-3]])]\n",
    "bottom = [b.value.value for b in bottom]\n",
    "\n",
    "solution = lookup[np.array([lookup[:,i]==bottom[i] for i in range (4)]).all(axis=0),4:][0]\n",
    "\n",
    "for t, loc in zip(solution, [[-3,0],[-3,1],[-3,2],[-3,3]]):\n",
    "    for n in range(int(t)):\n",
    "        hm.tap(np.array(loc))\n",
    "\n",
    "propagate_1s(hm)\n"
   ]
  },
  {
   "cell_type": "code",
   "execution_count": 25,
   "metadata": {},
   "outputs": [],
   "source": [
    "import arrow\n",
    "import numpy as np\n",
    "\n",
    "arr = [[1, 1, 1, 6],\n",
    " [4, 1, 6, 2, 2],\n",
    " [3, 1, 4, 1, 2, 4],\n",
    " [2, 5, 6, 3, 4, 2, 3],\n",
    " [1, 3, 2, 1, 4, 3],\n",
    " [4, 6, 6, 5, 6],\n",
    " [6, 2, 5, 6]]\n",
    "\n",
    "rectangle = np.zeros((len(arr), 7), dtype='int')\n",
    "for i in range(len(arr)):\n",
    "    if i<4:\n",
    "        rectangle[i:i + 1, 7-len(arr[i]):] = arr[i]\n",
    "    else:\n",
    "        rectangle[i:i + 1, :len(arr[i])] = arr[i]\n",
    "\n",
    "taps = arrow.solve(rectangle, transform=False)"
   ]
  },
  {
   "cell_type": "code",
   "execution_count": 26,
   "metadata": {},
   "outputs": [],
   "source": [
    "unique_rows, counts = np.unique(np.array(taps), axis=0, return_counts=True)"
   ]
  },
  {
   "cell_type": "code",
   "execution_count": 31,
   "metadata": {},
   "outputs": [
    {
     "data": {
      "text/plain": [
       "28.444444444444443"
      ]
     },
     "execution_count": 31,
     "metadata": {},
     "output_type": "execute_result"
    }
   ],
   "source": [
    "1024/36"
   ]
  },
  {
   "cell_type": "code",
   "execution_count": 30,
   "metadata": {},
   "outputs": [
    {
     "data": {
      "text/plain": [
       "36"
      ]
     },
     "execution_count": 30,
     "metadata": {},
     "output_type": "execute_result"
    }
   ],
   "source": [
    "len('\"input touchscreen tap 226.0 1225.0\"')"
   ]
  },
  {
   "cell_type": "code",
   "execution_count": 27,
   "metadata": {},
   "outputs": [
    {
     "data": {
      "text/plain": [
       "70"
      ]
     },
     "execution_count": 27,
     "metadata": {},
     "output_type": "execute_result"
    }
   ],
   "source": [
    "sum(counts%6)"
   ]
  },
  {
   "cell_type": "code",
   "execution_count": 28,
   "metadata": {},
   "outputs": [
    {
     "data": {
      "image/png": "[encoded data removed]",
      "text/plain": [
       "<Figure size 720x720 with 1 Axes>"
      ]
     },
     "metadata": {
      "needs_background": "light"
     },
     "output_type": "display_data"
    },
    {
     "data": {
      "image/png": "[encoded data removed]",
      "text/plain": [
       "<Figure size 720x720 with 1 Axes>"
      ]
     },
     "metadata": {
      "needs_background": "light"
     },
     "output_type": "display_data"
    }
   ],
   "source": [
    "from arrow import HexMap\n",
    "import random\n",
    "\n",
    "\n",
    "random.shuffle(taps)\n",
    "hm = HexMap(3, rectangle)\n",
    "hm.print()\n",
    "unique_rows, counts = np.unique(np.array(taps), axis=0, return_counts=True)\n",
    "\n",
    "for hex, count in zip(unique_rows, counts):\n",
    "    for i in range(count):\n",
    "        hm.tap(hm.hex_map[hex][0].axial_coordinates)\n",
    "\n",
    "hm.print()"
   ]
  },
  {
   "cell_type": "code",
   "execution_count": 11,
   "metadata": {},
   "outputs": [
    {
     "data": {
      "image/png": "[encoded data removed]",
      "text/plain": [
       "<Figure size 720x720 with 1 Axes>"
      ]
     },
     "metadata": {
      "needs_background": "light"
     },
     "output_type": "display_data"
    }
   ],
   "source": [
    "plt.figure(figsize=(10,10))\n",
    "theta = np.radians(90)\n",
    "c, s = np.cos(theta), np.sin(theta)\n",
    "R = np.array(((c, -s), (s, c)))\n",
    "proj = 1/np.sqrt(6)*np.array([[np.sqrt(3),0],[1,2]])\n",
    "\n",
    "for h in hm.hex_map.items():\n",
    "    hex = h[1]\n",
    "    coo = hex.axial_coordinates\n",
    "    coo = np.matmul(proj, coo.T)\n",
    "    coo = np.matmul(R, coo)\n",
    "    plt.text(coo[1]/4, coo[0]/4, hex.value.value, c=hex.color, fontsize=40)\n",
    "\n",
    "plt.axis('off')\n",
    "plt.xlim([-1,1])\n",
    "plt.ylim([-1,1])\n",
    "plt.show()"
   ]
  },
  {
   "cell_type": "code",
   "execution_count": 7,
   "metadata": {},
   "outputs": [],
   "source": [
    "coo = []\n",
    "\n",
    "for h in hm.hex_map.items():\n",
    "    hex = h[1]\n",
    "    coo.append(hex.axial_coordinates[0])\n",
    "\n",
    "coo_arr = np.array(coo)"
   ]
  },
  {
   "cell_type": "code",
   "execution_count": 8,
   "metadata": {},
   "outputs": [
    {
     "name": "stdout",
     "output_type": "stream",
     "text": [
      "127.09989231875039, 962.9001076812497\n",
      "903.4505206717138, 1868.5494793282862\n"
     ]
    },
    {
     "data": {
      "image/png": "[encoded data removed]",
      "text/plain": [
       "<Figure size 360x360 with 1 Axes>"
      ]
     },
     "metadata": {
      "needs_background": "light"
     },
     "output_type": "display_data"
    }
   ],
   "source": [
    "import matplotlib.pyplot as plt\n",
    "\n",
    "plt.figure(figsize=(5,5))\n",
    "\n",
    "theta = np.radians(90)\n",
    "c, s = np.cos(theta), np.sin(theta)\n",
    "R = np.array(((c, -s), (s, c)))\n",
    "proj = 1/np.sqrt(6)*np.array([[np.sqrt(3),0],[1,2]])\n",
    "\n",
    "\n",
    "\n",
    "coo = np.matmul(proj, coo_arr.T)\n",
    "coo = np.matmul(R, coo)\n",
    "coo = coo[[1,0],:]\n",
    "\n",
    "hex_grid = {'offset':[[545,1386]], 'scale':1182}\n",
    "\n",
    "coo = coo/(3) * hex_grid['scale']/2\n",
    "\n",
    "coo = (coo.T + hex_grid['offset']).T\n",
    "\n",
    "plt.scatter(coo[0,:],coo[1,:])\n",
    "# plt.xlim([-4,4])\n",
    "# plt.ylim([-4,4])\n",
    "\n",
    "\n",
    "print(f'{coo[0].min()}, {coo[0].max()}')\n",
    "print(f'{coo[1].min()}, {coo[1].max()}')"
   ]
  },
  {
   "cell_type": "code",
   "execution_count": 9,
   "metadata": {},
   "outputs": [
    {
     "data": {
      "text/plain": [
       "array([[ 545.        ,  405.69996411,  405.69996411,  545.        ,\n",
       "         684.30003589,  684.30003589,  545.        ,  266.39992821,\n",
       "         266.39992821,  266.39992821,  405.69996411,  545.        ,\n",
       "         684.30003589,  823.60007179,  823.60007179,  823.60007179,\n",
       "         684.30003589,  545.        ,  405.69996411,  127.09989232,\n",
       "         127.09989232,  127.09989232,  127.09989232,  266.39992821,\n",
       "         405.69996411,  545.        ,  684.30003589,  823.60007179,\n",
       "         962.90010768,  962.90010768,  962.90010768,  962.90010768,\n",
       "         823.60007179,  684.30003589,  545.        ,  405.69996411,\n",
       "         266.39992821],\n",
       "       [1386.        , 1466.42491322, 1305.57508678, 1225.15017356,\n",
       "        1305.57508678, 1466.42491322, 1546.84982644, 1546.84982644,\n",
       "        1386.        , 1225.15017356, 1144.72526034, 1064.30034711,\n",
       "        1144.72526034, 1225.15017356, 1386.        , 1546.84982644,\n",
       "        1627.27473966, 1707.69965289, 1627.27473966, 1627.27473966,\n",
       "        1466.42491322, 1305.57508678, 1144.72526034, 1064.30034711,\n",
       "         983.87543389,  903.45052067,  983.87543389, 1064.30034711,\n",
       "        1144.72526034, 1305.57508678, 1466.42491322, 1627.27473966,\n",
       "        1707.69965289, 1788.12456611, 1868.54947933, 1788.12456611,\n",
       "        1707.69965289]])"
      ]
     },
     "execution_count": 9,
     "metadata": {},
     "output_type": "execute_result"
    }
   ],
   "source": [
    "coo"
   ]
  },
  {
   "cell_type": "code",
   "execution_count": 27,
   "metadata": {},
   "outputs": [
    {
     "data": {
      "text/plain": [
       "array([ 269., 1657.])"
      ]
     },
     "execution_count": 27,
     "metadata": {},
     "output_type": "execute_result"
    }
   ],
   "source": [
    "hex_grid = {'offset':[[540,1386]], 'scale':812}\n",
    "\n",
    "taps_t = taps/(3) * hex_grid['scale']/2\n",
    "\n",
    "taps_t = taps_t + hex_grid['offset']\n",
    "taps_t = np.around(taps_t)\n",
    "\n",
    "taps_t[0]"
   ]
  },
  {
   "cell_type": "code",
   "execution_count": 29,
   "metadata": {},
   "outputs": [
    {
     "data": {
      "text/plain": [
       "array([ 269., 1657.])"
      ]
     },
     "execution_count": 29,
     "metadata": {},
     "output_type": "execute_result"
    }
   ],
   "source": [
    "taps_t[0]"
   ]
  },
  {
   "cell_type": "code",
   "execution_count": null,
   "metadata": {},
   "outputs": [],
   "source": []
  }
 ],
 "metadata": {
  "interpreter": {
   "hash": "c2482da25a09a7e663510b14886bd5d0f7b26da3cfeff70f9ad86a06d79e2158"
  },
  "kernelspec": {
   "display_name": "Python 3.9.12 ('jobhunt')",
   "language": "python",
   "name": "python3"
  },
  "language_info": {
   "codemirror_mode": {
    "name": "ipython",
    "version": 3
   },
   "file_extension": ".py",
   "mimetype": "text/x-python",
   "name": "python",
   "nbconvert_exporter": "python",
   "pygments_lexer": "ipython3",
   "version": "3.9.12"
  },
  "orig_nbformat": 4
 },
 "nbformat": 4,
 "nbformat_minor": 2
}
